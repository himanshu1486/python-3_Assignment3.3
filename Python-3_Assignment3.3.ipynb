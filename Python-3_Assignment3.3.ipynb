{
 "cells": [
  {
   "cell_type": "code",
   "execution_count": 3,
   "metadata": {},
   "outputs": [
    {
     "name": "stdout",
     "output_type": "stream",
     "text": [
      "Treesplantsmountains\n",
      "we are together\n"
     ]
    }
   ],
   "source": [
    "def longestword(list):\n",
    "    longestword=\"\"\n",
    "    for element in list:\n",
    "        longestword=longestword+str(element)\n",
    "    return longestword\n",
    "\n",
    "print(longestword([\"Trees\",\"plants\",\"mountains\"]))\n",
    "print(longestword([\"we \",\"are\", \" together\"]))"
   ]
  }
 ],
 "metadata": {
  "kernelspec": {
   "display_name": "Python 3",
   "language": "python",
   "name": "python3"
  },
  "language_info": {
   "codemirror_mode": {
    "name": "ipython",
    "version": 3
   },
   "file_extension": ".py",
   "mimetype": "text/x-python",
   "name": "python",
   "nbconvert_exporter": "python",
   "pygments_lexer": "ipython3",
   "version": "3.6.4"
  }
 },
 "nbformat": 4,
 "nbformat_minor": 2
}
